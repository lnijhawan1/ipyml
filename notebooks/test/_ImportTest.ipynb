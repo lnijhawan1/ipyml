{
 "cells": [
  {
   "cell_type": "code",
   "execution_count": null,
   "id": "54437939-671f-474b-8e59-1e4ccbd632cf",
   "metadata": {},
   "outputs": [],
   "source": [
    "from ipyml.api import RegressionBase"
   ]
  }
 ],
 "metadata": {
  "kernelspec": {
   "display_name": "Python 3 (ipykernel)",
   "language": "python",
   "name": "python3"
  },
  "language_info": {
   "codemirror_mode": {
    "name": "ipython",
    "version": 3
   },
   "file_extension": ".py",
   "mimetype": "text/x-python",
   "name": "python",
   "nbconvert_exporter": "python",
   "pygments_lexer": "ipython3",
   "version": "3.9.10"
  }
 },
 "nbformat": 4,
 "nbformat_minor": 5
}
