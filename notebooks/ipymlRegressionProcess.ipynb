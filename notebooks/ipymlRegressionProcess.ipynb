{
 "cells": [
  {
   "cell_type": "code",
   "execution_count": null,
   "id": "9e5f5440-6b04-420d-a550-7ef749a7b2a9",
   "metadata": {},
   "outputs": [],
   "source": [
    "from sklearn.datasets import load_diabetes\n",
    "\n",
    "from ipyml.api import RegressionBase"
   ]
  },
  {
   "cell_type": "code",
   "execution_count": null,
   "id": "208d7175-d442-46b8-9c69-67be6b2e77dc",
   "metadata": {},
   "outputs": [],
   "source": [
    "diabetes = load_diabetes(return_X_y=False, as_frame=True)[\"frame\"]"
   ]
  },
  {
   "cell_type": "code",
   "execution_count": null,
   "id": "402d0f2b-efcc-4543-8c84-b5df86d76ee4",
   "metadata": {},
   "outputs": [],
   "source": [
    "regr = RegressionBase(diabetes)"
   ]
  },
  {
   "cell_type": "code",
   "execution_count": null,
   "id": "c6017a94-023d-4c94-ba38-02c32cafa26f",
   "metadata": {},
   "outputs": [],
   "source": [
    "regr"
   ]
  },
  {
   "cell_type": "code",
   "execution_count": null,
   "id": "b904c47f-9b12-4169-b30c-ba31d1b0669e",
   "metadata": {},
   "outputs": [],
   "source": [
    "regr.target_select.options = sorted(regr.target_select.options)"
   ]
  },
  {
   "cell_type": "code",
   "execution_count": null,
   "id": "bd12a799-f4e7-43a2-8b2d-682e2b6f7e91",
   "metadata": {},
   "outputs": [],
   "source": [
    "import json\n",
    "import os\n",
    "import time\n",
    "from pathlib import Path\n",
    "\n",
    "IS_TESTING = json.loads(os.environ.get(\"IPYML_TESTING\", \"false\"))\n",
    "\n",
    "if IS_TESTING:\n",
    "    # automate the \"user interaction\" of the tool\n",
    "    target_feature = \"target\"\n",
    "    input_features = [\"age\", \"sex\", \"bmi\", \"bp\", \"s1\"]\n",
    "    validation_column = None\n",
    "    test_model_filename = \"test_model\"\n",
    "\n",
    "    assert (\n",
    "        target_feature in regr.target_select.options\n",
    "    ), \"Failed to find the target feature 'target'.\"\n",
    "    regr.target_select.value = \"target\"\n",
    "    assert all(\n",
    "        [_input in regr.inputs_select.options for _input in input_features]\n",
    "    ), \"Failed to find all input features.\"\n",
    "    regr.inputs_select.value = input_features\n",
    "    assert validation_column in regr.validation_column_select.options\n",
    "    regr.validation_column_select.value = validation_column\n",
    "\n",
    "    # No validation - linear regression\n",
    "    regr.lr_button.click()\n",
    "\n",
    "    # Get latest regression model widget and run\n",
    "    model_widget = regr._generated_models[-1]\n",
    "    model_widget.run_button.click()\n",
    "    # give it a few seconds to build the model\n",
    "    time.sleep(3)\n",
    "\n",
    "    trained_model_widget = model_widget._trained_models[-1]\n",
    "    trained_model_widget.model_name.value = test_model_filename + \"_lr\"\n",
    "    trained_model_widget.export_button.click()\n",
    "    # give it a few seconds to save the model\n",
    "    time.sleep(5)\n",
    "\n",
    "    assert Path(f\"{test_model_filename}_lr.json\").is_file()"
   ]
  },
  {
   "cell_type": "code",
   "execution_count": null,
   "id": "065f04b0-a991-40ca-ae2c-70da065e2aa3",
   "metadata": {},
   "outputs": [],
   "source": [
    "# imports\n",
    "import json\n",
    "from functools import partial\n",
    "\n",
    "from ipyml.regression_callable import run_linear_regression, run_neural_net"
   ]
  },
  {
   "cell_type": "code",
   "execution_count": null,
   "id": "ddeec2af-cbfc-459c-a3d0-1b98d4e36530",
   "metadata": {},
   "outputs": [],
   "source": [
    "# load the model\n",
    "if Path(\"test_model_lr.json\").is_file():\n",
    "    model_name = \"test_model_lr.json\"\n",
    "    reg_call = run_linear_regression\n",
    "elif Path(\"test_model_nn.json\").is_file():\n",
    "    model_name = \"test_model_nn.json\"\n",
    "    reg_call = run_neural_net\n",
    "else:\n",
    "    raise NotImplementedError\n",
    "\n",
    "with open(model_name, \"r\") as f:\n",
    "    model_data = json.load(f)"
   ]
  },
  {
   "cell_type": "code",
   "execution_count": null,
   "id": "43ec7329-f789-4618-8798-204389176073",
   "metadata": {},
   "outputs": [],
   "source": [
    "# setup a partially initialized function\n",
    "partial_func = partial(reg_call, model=model_data)\n",
    "\n",
    "# use it to make predictions\n",
    "inputs = {var: diabetes[var] for var in diabetes.columns}\n",
    "predictions = partial_func(**inputs)\n",
    "print(predictions)"
   ]
  }
 ],
 "metadata": {
  "kernelspec": {
   "display_name": "Python 3 (ipykernel)",
   "language": "python",
   "name": "python3"
  },
  "language_info": {
   "codemirror_mode": {
    "name": "ipython",
    "version": 3
   },
   "file_extension": ".py",
   "mimetype": "text/x-python",
   "name": "python",
   "nbconvert_exporter": "python",
   "pygments_lexer": "ipython3",
   "version": "3.9.10"
  }
 },
 "nbformat": 4,
 "nbformat_minor": 5
}
