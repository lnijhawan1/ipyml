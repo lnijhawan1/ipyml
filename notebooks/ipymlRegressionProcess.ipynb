{
 "cells": [
  {
   "cell_type": "code",
   "execution_count": null,
   "id": "9e5f5440-6b04-420d-a550-7ef749a7b2a9",
   "metadata": {},
   "outputs": [],
   "source": [
    "from ipyml.api import RegressionBase\n",
    "from sklearn.datasets import load_diabetes"
   ]
  },
  {
   "cell_type": "markdown",
   "id": "d8e8006f-93c6-4ed1-82bd-0706cfdd0572",
   "metadata": {},
   "source": [
    "## Choosing a dataset\n",
    "The first step with `ipyml` is to find a dataset you would like to use regression on. For the purposes of this example, we will use the diabetes dataset from `sklearn`, but this dataset can be anything as long as it is in dataframe form."
   ]
  },
  {
   "cell_type": "code",
   "execution_count": null,
   "id": "208d7175-d442-46b8-9c69-67be6b2e77dc",
   "metadata": {},
   "outputs": [],
   "source": [
    "diabetes = load_diabetes(return_X_y=False, as_frame=True)['frame']"
   ]
  },
  {
   "cell_type": "markdown",
   "id": "eeb217cf-161a-4ef2-9a24-fddd3d6b9b15",
   "metadata": {},
   "source": [
    "## Initializing the `RegressionBase` class"
   ]
  },
  {
   "cell_type": "code",
   "execution_count": null,
   "id": "402d0f2b-efcc-4543-8c84-b5df86d76ee4",
   "metadata": {},
   "outputs": [],
   "source": [
    "regr = RegressionBase(diabetes)"
   ]
  },
  {
   "cell_type": "markdown",
   "id": "39d30c8b-a597-4efe-bcac-fe382afac7e1",
   "metadata": {},
   "source": [
    "As we load the application, we see that we first go through the initial setup of selecting a target feature, selecting your inputs, and an optional validation column (for splitting into train and test based on column value). We then have three buttons on the bottom corresponding to neural network (`sklearn`), simple linear regression (`sklearn`), and OLS regression (`statsmodels.api`). The OLS regression is useful for mimicking R-style syntax when drafting a regression equation. After fitting model specific parameters, you can train the model, at which point a new window will appear with options to view useful plots as well as export to a user-defined `.json` file that will store all the model data."
   ]
  },
  {
   "cell_type": "code",
   "execution_count": null,
   "id": "c6017a94-023d-4c94-ba38-02c32cafa26f",
   "metadata": {},
   "outputs": [],
   "source": [
    "regr"
   ]
  },
  {
   "cell_type": "markdown",
   "id": "799be953-37f0-412b-b286-c32d63205972",
   "metadata": {},
   "source": [
    "### Automated testing\n",
    "TODO expand automated testing and migrate to `Test_` style notebook."
   ]
  },
  {
   "cell_type": "code",
   "execution_count": null,
   "id": "bd12a799-f4e7-43a2-8b2d-682e2b6f7e91",
   "metadata": {},
   "outputs": [],
   "source": [
    "import json, os, time\n",
    "from pathlib import Path\n",
    "\n",
    "IS_TESTING = json.loads(os.environ.get(\"IPYML_TESTING\", \"false\"))\n",
    "\n",
    "if IS_TESTING:\n",
    "    # automate the \"user interaction\" of the tool\n",
    "    target_feature = \"target\"\n",
    "    input_features = ['age', 'sex', 'bmi', 'bp', 's1']\n",
    "    validation_column = None\n",
    "    test_model_filename = \"test_model\"\n",
    "\n",
    "    assert target_feature in regr.target_select.options, \"Failed to find the target feature 'target'.\"\n",
    "    regr.target_select.value = \"target\"\n",
    "    assert all([_input in regr.inputs_select.options for _input in input_features]), \"Failed to find all input features.\"\n",
    "    regr.inputs_select.value = input_features\n",
    "    assert validation_column in regr.validation_column_select.options\n",
    "    regr.validation_column_select.value = validation_column\n",
    "\n",
    "    # No validation - linear regression\n",
    "    regr.lr_button.click()\n",
    "\n",
    "    # Get latest regression model widget and run\n",
    "    model_widget = regr._generated_models[-1]\n",
    "    model_widget.run_button.click()\n",
    "    # give it a few seconds to build the model\n",
    "    time.sleep(3)\n",
    "\n",
    "    trained_model_widget = model_widget._trained_models[-1]\n",
    "    trained_model_widget.model_name.value = test_model_filename + \"_lr\"\n",
    "    trained_model_widget.export_button.click()\n",
    "    # give it a few seconds to save the model\n",
    "    time.sleep(5)\n",
    "\n",
    "    assert Path(f\"{test_model_filename}_lr.json\").is_file()"
   ]
  },
  {
   "cell_type": "markdown",
   "id": "8cd14f45-2ce8-4d8e-a33a-298f94a68b73",
   "metadata": {},
   "source": [
    "## Running regression models from a `.json` file\n",
    "> Note: **This is a Work in Progress**\n",
    "\n",
    "Once we have a model saved in `JSON` format, we use callable functions from `regression_callable.py` that were designed to take the format of saved model data and translate it into a tool that can be used to make predictions. \n",
    "\n"
   ]
  },
  {
   "cell_type": "code",
   "execution_count": null,
   "id": "065f04b0-a991-40ca-ae2c-70da065e2aa3",
   "metadata": {},
   "outputs": [],
   "source": [
    "# imports\n",
    "from ipyml.regression_callable import run_linear_regression, run_neural_net\n",
    "from functools import partial\n",
    "import json"
   ]
  },
  {
   "cell_type": "code",
   "execution_count": null,
   "id": "ddeec2af-cbfc-459c-a3d0-1b98d4e36530",
   "metadata": {},
   "outputs": [],
   "source": [
    "# load the model\n",
    "if Path(\"test_model_lr.json\").is_file():\n",
    "    model_name = \"test_model_lr.json\"\n",
    "    reg_call = run_linear_regression\n",
    "elif Path(\"test_model_nn.json\").is_file():\n",
    "    model_name = \"test_model_nn.json\"\n",
    "    reg_call = run_neural_net\n",
    "else:\n",
    "    raise NotImplementedError\n",
    "\n",
    "with open(model_name, 'r') as f:\n",
    "    model_data = json.load(f)"
   ]
  },
  {
   "cell_type": "code",
   "execution_count": null,
   "id": "43ec7329-f789-4618-8798-204389176073",
   "metadata": {},
   "outputs": [],
   "source": [
    "# setup a partially initialized function\n",
    "partial_func = partial(reg_call, model=model_data)\n",
    "\n",
    "# use it to make predictions\n",
    "inputs = {var: diabetes[var] for var in diabetes.columns}\n",
    "predictions = partial_func(**inputs)\n",
    "print(predictions)"
   ]
  },
  {
   "cell_type": "code",
   "execution_count": null,
   "id": "ba87f090-7875-4320-b658-4dbc502c7460",
   "metadata": {},
   "outputs": [],
   "source": []
  }
 ],
 "metadata": {
  "kernelspec": {
   "display_name": "Python 3 (ipykernel)",
   "language": "python",
   "name": "python3"
  },
  "language_info": {
   "codemirror_mode": {
    "name": "ipython",
    "version": 3
   },
   "file_extension": ".py",
   "mimetype": "text/x-python",
   "name": "python",
   "nbconvert_exporter": "python",
   "pygments_lexer": "ipython3",
   "version": "3.9.10"
  }
 },
 "nbformat": 4,
 "nbformat_minor": 5
}
