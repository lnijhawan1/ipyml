{
 "cells": [
  {
   "cell_type": "code",
   "execution_count": null,
   "id": "9e5f5440-6b04-420d-a550-7ef749a7b2a9",
   "metadata": {},
   "outputs": [],
   "source": [
    "from ipyml.api import RegressionBase\n",
    "from sklearn.datasets import load_diabetes"
   ]
  },
  {
   "cell_type": "markdown",
   "id": "d8e8006f-93c6-4ed1-82bd-0706cfdd0572",
   "metadata": {},
   "source": [
    "## The first step with `ipyml` is to find a dataset you would like to use regression on. For the purposes of this example, we will use the diabetes dataset from `sklearn`, but this dataset can be anything as long as it is in dataframe form."
   ]
  },
  {
   "cell_type": "code",
   "execution_count": null,
   "id": "208d7175-d442-46b8-9c69-67be6b2e77dc",
   "metadata": {},
   "outputs": [],
   "source": [
    "diabetes = load_diabetes(return_X_y=False, as_frame=True)['frame']"
   ]
  },
  {
   "cell_type": "markdown",
   "id": "eeb217cf-161a-4ef2-9a24-fddd3d6b9b15",
   "metadata": {},
   "source": [
    "## Now we can load in the data with the `RegressionBase` class."
   ]
  },
  {
   "cell_type": "code",
   "execution_count": null,
   "id": "402d0f2b-efcc-4543-8c84-b5df86d76ee4",
   "metadata": {},
   "outputs": [],
   "source": [
    "regr = RegressionBase(diabetes)"
   ]
  },
  {
   "cell_type": "markdown",
   "id": "fc9e43d4-0087-4a39-8e7a-2c3dbcb742b9",
   "metadata": {},
   "source": [
    "## As we load the application, we see that we first go through the initial setup of selecting a target feature, selecting your inputs, and an optional validation column (for splitting into train and test based on column value). We then have three buttons on the bottom corresponding to neural network (`sklearn`), simple linear regression (`sklearn`), and OLS regression (`statsmodels.api`). The OLS regression is useful for mimicking R-style syntax when drafting a regression equation. After fitting model specific parameters, you can train the model, at which point a new window will appear with options to view useful plots as well as export to a user-defined `.json` file that will store all the model data."
   ]
  },
  {
   "cell_type": "code",
   "execution_count": null,
   "id": "22856bac-04c2-44c1-a126-21a2dbccba8b",
   "metadata": {},
   "outputs": [],
   "source": [
    "regr"
   ]
  },
  {
   "cell_type": "markdown",
   "id": "8cd14f45-2ce8-4d8e-a33a-298f94a68b73",
   "metadata": {},
   "source": [
    "## Once we have a model saved in `JSON` format, we use callable functions from `regression_callable.py` that were designed to take the format of saved model data and translate it into a tool that can be used to make predictions. **THIS IS A WIP**"
   ]
  },
  {
   "cell_type": "code",
   "execution_count": null,
   "id": "065f04b0-a991-40ca-ae2c-70da065e2aa3",
   "metadata": {},
   "outputs": [],
   "source": [
    "from ipyml.regression_callable import run_neural_net\n",
    "from functools import partial\n",
    "import json"
   ]
  },
  {
   "cell_type": "code",
   "execution_count": null,
   "id": "ddeec2af-cbfc-459c-a3d0-1b98d4e36530",
   "metadata": {},
   "outputs": [],
   "source": [
    "# first we load our model\n",
    "model_name = 'test_model.json'\n",
    "with open(model_name, 'r') as f:\n",
    "    model_data = json.load(f)\n",
    "f.close()"
   ]
  },
  {
   "cell_type": "code",
   "execution_count": null,
   "id": "43ec7329-f789-4618-8798-204389176073",
   "metadata": {},
   "outputs": [],
   "source": [
    "# now we set up a partially initialized function\n",
    "func = partial(run_neural_net, model=model_data)\n",
    "\n",
    "# and we can use it to make predictions\n",
    "inputs = {var: diabetes[var] for var in diabetes.columns}\n",
    "predictions = func(**inputs)\n",
    "print(predictions)"
   ]
  },
  {
   "cell_type": "code",
   "execution_count": null,
   "id": "4397fa79-5b7b-4a87-baaa-8d26cb563751",
   "metadata": {},
   "outputs": [],
   "source": []
  }
 ],
 "metadata": {
  "kernelspec": {
   "display_name": "Python 3 (ipykernel)",
   "language": "python",
   "name": "python3"
  },
  "language_info": {
   "codemirror_mode": {
    "name": "ipython",
    "version": 3
   },
   "file_extension": ".py",
   "mimetype": "text/x-python",
   "name": "python",
   "nbconvert_exporter": "python",
   "pygments_lexer": "ipython3",
   "version": "3.9.10"
  }
 },
 "nbformat": 4,
 "nbformat_minor": 5
}
