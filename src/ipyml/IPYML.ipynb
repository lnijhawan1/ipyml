{
 "cells": [
  {
   "cell_type": "code",
   "execution_count": 1,
   "id": "0ed3b4f7-2194-4dac-b8cb-fd2907ccdd72",
   "metadata": {},
   "outputs": [],
   "source": [
    "from base_selection import RegressionBase\n",
    "from sklearn.datasets import load_diabetes"
   ]
  },
  {
   "cell_type": "markdown",
   "id": "a06b8a88-1270-4fc4-9c26-bbbcc3e8e5fc",
   "metadata": {},
   "source": [
    "## Step One: Load a DataFrame for regression analysis, then export it to a `JSON` file"
   ]
  },
  {
   "cell_type": "code",
   "execution_count": 2,
   "id": "35acf0bc-9829-436a-a233-d724ec003d40",
   "metadata": {},
   "outputs": [],
   "source": [
    "X = load_diabetes(return_X_y=False, as_frame=True)['frame']\n",
    "x=RegressionBase(dataframe=X)"
   ]
  },
  {
   "cell_type": "code",
   "execution_count": 3,
   "id": "d9bfc9cd-6dfe-40af-8a87-1323edc0c6ab",
   "metadata": {},
   "outputs": [
    {
     "data": {
      "application/vnd.jupyter.widget-view+json": {
       "model_id": "f8c0dfd2095a482fa104730437cc2074",
       "version_major": 2,
       "version_minor": 0
      },
      "text/plain": [
       "RegressionBase(children=(Button(description='view dataframe', icon='bars', layout=Layout(height='40px', width=…"
      ]
     },
     "metadata": {},
     "output_type": "display_data"
    }
   ],
   "source": [
    "x"
   ]
  },
  {
   "cell_type": "markdown",
   "id": "f39c5017-42ca-40fe-ab4d-01ec643468d3",
   "metadata": {},
   "source": [
    "## Step Two: Create callable function taking desired inputs and the model data from the `json` file"
   ]
  },
  {
   "cell_type": "code",
   "execution_count": 7,
   "id": "704b0494-8dd0-4732-b156-b50ede7a1dfe",
   "metadata": {},
   "outputs": [],
   "source": [
    "from functools import partial\n",
    "from regression_callable import run_neural_net, run_linear_regression\n",
    "import json\n",
    "\n",
    "f = open('test_lr.json', 'r')\n",
    "model_lr = json.load(f)\n",
    "f.close()\n",
    "\n",
    "f = open('test_nn.json','r')\n",
    "model_nn = json.load(f)\n",
    "f.close()\n",
    "\n",
    "linear_regression = partial(run_linear_regression, model=model_lr)\n",
    "neural_net = partial(run_neural_net, model=model_nn)"
   ]
  },
  {
   "cell_type": "markdown",
   "id": "88a21a11-2a5c-414e-a7cf-f43c8e13f997",
   "metadata": {},
   "source": [
    "## Step Three: Set everything up with `ipycontour` syntax, and view your contours!"
   ]
  },
  {
   "cell_type": "code",
   "execution_count": 8,
   "id": "1d619d5e-6255-4253-b5cf-7296b3e193cb",
   "metadata": {},
   "outputs": [
    {
     "data": {
      "text/plain": [
       "ContourApp(commands=CommandRegistry(), sessions=SessionManager(), shell=Shell())"
      ]
     },
     "metadata": {},
     "output_type": "display_data"
    }
   ],
   "source": [
    "from ipycontour.api import Variable, Constraint, ContourApp\n",
    "age = Variable(name='age', lower=min(X.age), upper=max(X.age))\n",
    "sex = Variable(name='sex', lower=min(X.sex), upper=max(X.sex))\n",
    "bmi = Variable(name='bmi', lower=min(X.bmi), upper=max(X.bmi))\n",
    "bp = Variable(name='bp', lower=min(X.bp), upper=max(X.bp))\n",
    "s1 = Variable(name='s1', lower=min(X.s1), upper=max(X.s1))\n",
    "s2 = Variable(name='s2', lower=min(X.s2), upper=max(X.s2))\n",
    "s3 = Variable(name='s3', lower=min(X.s3), upper=max(X.s3))\n",
    "s4 = Variable(name='s4', lower=min(X.s4), upper=max(X.s4))\n",
    "s5 = Variable(name='s5', lower=min(X.s5), upper=max(X.s5))\n",
    "s6 = Variable(name='s6', lower=min(X.s6), upper=max(X.s6))\n",
    "\n",
    "nn = Constraint(name='neural_net', function=neural_net, inputs = (age,sex,bmi,bp,s1,s2,s3,s4,s5,s6), lower_bound=0, upper_bound=350)\n",
    "lr = Constraint(name='linear_regressoin', function=linear_regression, inputs = (s6,age,sex,bmi,s1,s2,s3,s4,s5,bp), lower_bound=0, upper_bound=350)\n",
    "app = ContourApp(constraints=[nn, lr])\n",
    "app"
   ]
  },
  {
   "cell_type": "code",
   "execution_count": null,
   "id": "a41d9c27-32fb-4b8a-ad91-2b906f0953c3",
   "metadata": {},
   "outputs": [],
   "source": []
  },
  {
   "cell_type": "code",
   "execution_count": null,
   "id": "20eb6dfc-1d45-415f-ad5c-55b54ef505e0",
   "metadata": {},
   "outputs": [],
   "source": []
  },
  {
   "cell_type": "code",
   "execution_count": 6,
   "id": "69d95902-1407-4b6d-bd4f-b060c33d3b74",
   "metadata": {},
   "outputs": [
    {
     "name": "stdout",
     "output_type": "stream",
     "text": [
      "[(), '', '', '', '', '']\n",
      "()\n",
      "[(), '', '', '', '', '']\n",
      "[(), '', '', '', '', '']\n",
      "[(), '', '', '', '', '']\n",
      "[(), '', '', '', '', '']\n",
      "[(), '', '', '', '', '']\n",
      "()\n",
      "\n",
      "\n",
      "\n",
      "\n",
      "\n"
     ]
    }
   ],
   "source": [
    "import ipywidgets as ipyw\n",
    "import traitlets as trt\n",
    "\n",
    "class SelectContainer(ipyw.VBox):\n",
    "    selectors = ipyw.trait_types.TypedTuple()\n",
    "    options = ipyw.trait_types.TypedTuple(trt.Unicode())\n",
    "    selected = ipyw.trait_types.TypedTuple(trt.Unicode())\n",
    "    \n",
    "    @trt.validate(\"children\")\n",
    "    def _check_children(self, proposal: trt.Bunch):\n",
    "        children = proposal.value\n",
    "        if not children:\n",
    "            children = self.selectors\n",
    "        return children\n",
    "    \n",
    "    @trt.validate(\"selectors\")\n",
    "    def _check_selectors(self, proposal: trt.Bunch):\n",
    "        selectors = proposal.value\n",
    "        for selector in self.selectors:\n",
    "            selector.options = [\"\"] + list(self.options)\n",
    "            if isinstance(selector.value, tuple):\n",
    "                selector.value = ()\n",
    "            else:\n",
    "                selector.value = \"\"\n",
    "        return selectors\n",
    "\n",
    "    @trt.observe(\"selectors\")\n",
    "    def _update_selector_observers(self, change: trt.Bunch):\n",
    "        old = None if change.old is trt.Undefined else change.old\n",
    "        for selector in old or []:\n",
    "            selector.unobserve(self._update_selected, \"value\")\n",
    "        self.selected = ()\n",
    "        new = None if change.new is trt.Undefined else change.new\n",
    "        for selector in new or []:\n",
    "            if isinstance(selector.value, tuple):\n",
    "                selector.value = ()\n",
    "            else:\n",
    "                selector.value = \"\"\n",
    "            selector.observe(self._update_selected, \"value\")\n",
    "        self.children = self.selectors\n",
    "            \n",
    "    @trt.observe(\"selected\")\n",
    "    def _update_selector_options(self, change: trt.Bunch):\n",
    "        for selector in self.selectors:\n",
    "            try:\n",
    "                selector.unobserve(self._update_selected, \"value\")\n",
    "            except:\n",
    "                continue\n",
    "        for selector in self.selectors:\n",
    "            print([selector.value for selector in self.selectors])\n",
    "            with selector.hold_trait_notifications():\n",
    "                if isinstance(selector.value, tuple):\n",
    "                    value = selector.value\n",
    "                    print(value)\n",
    "                    selector.options = list(selector.value) + [\n",
    "                        option for option in self.options\n",
    "                        if option not in self.selected\n",
    "                    ]\n",
    "                    selector.value = value\n",
    "                else:\n",
    "                    selector.options = [selector.value] + [\n",
    "                        option for option in self.options\n",
    "                        if option not in self.selected\n",
    "                    ]\n",
    "        for selector in self.selectors:\n",
    "            print(selector.value)\n",
    "            try:\n",
    "                selector.observe(self._update_selected, \"value\")\n",
    "            except:\n",
    "                continue\n",
    "    def _update_selected(self, change: trt.Bunch):\n",
    "        selected = []\n",
    "        for selector in self.selectors:\n",
    "            if isinstance(selector.value, tuple):\n",
    "                [selected.append(val) for val in selector.value]\n",
    "            else:\n",
    "                selected.append(selector.value)\n",
    "        self.selected = selected\n",
    "\n",
    "x=SelectContainer(selectors=[ipyw.SelectMultiple()]+[ipyw.Dropdown() for _ in range(5)], options=list(\"abcdefgh\"))"
   ]
  },
  {
   "cell_type": "code",
   "execution_count": 7,
   "id": "8ff49d69-d561-4e48-a954-217d30fe977f",
   "metadata": {},
   "outputs": [
    {
     "data": {
      "application/vnd.jupyter.widget-view+json": {
       "model_id": "6657dfa11355405a93effa07f3356fef",
       "version_major": 2,
       "version_minor": 0
      },
      "text/plain": [
       "SelectContainer(children=(SelectMultiple(options=('a', 'b', 'c', 'd', 'e', 'f', 'g', 'h'), value=()), Dropdown…"
      ]
     },
     "metadata": {},
     "output_type": "display_data"
    }
   ],
   "source": [
    "x"
   ]
  },
  {
   "cell_type": "code",
   "execution_count": 8,
   "id": "7d6cf876-7a11-4227-bac5-290e22b1399f",
   "metadata": {},
   "outputs": [
    {
     "data": {
      "text/plain": [
       "()"
      ]
     },
     "execution_count": 8,
     "metadata": {},
     "output_type": "execute_result"
    }
   ],
   "source": [
    "x.selected"
   ]
  },
  {
   "cell_type": "code",
   "execution_count": null,
   "id": "16f4eb25-1e21-4958-b26e-6f18b76cc9a2",
   "metadata": {},
   "outputs": [],
   "source": [
    "\n"
   ]
  },
  {
   "cell_type": "code",
   "execution_count": null,
   "id": "37a6c32f-4823-433d-bb11-c4a91bf2ab86",
   "metadata": {},
   "outputs": [],
   "source": []
  },
  {
   "cell_type": "code",
   "execution_count": null,
   "id": "176c66e1-5932-481b-b303-e9e36e1ca078",
   "metadata": {},
   "outputs": [],
   "source": []
  },
  {
   "cell_type": "code",
   "execution_count": null,
   "id": "aeb0345a-8620-4aa8-b3f2-4428dc9c953f",
   "metadata": {},
   "outputs": [],
   "source": []
  },
  {
   "cell_type": "code",
   "execution_count": null,
   "id": "068d589c-7067-4969-bd0d-58949d6e6124",
   "metadata": {},
   "outputs": [],
   "source": []
  },
  {
   "cell_type": "code",
   "execution_count": null,
   "id": "df6ac900-3e4e-42de-ab6a-32a887e35b01",
   "metadata": {},
   "outputs": [],
   "source": []
  },
  {
   "cell_type": "code",
   "execution_count": 5,
   "id": "4c9fe902-be09-45d0-9b11-e1418f971246",
   "metadata": {},
   "outputs": [],
   "source": [
    "# okay lets try and mimic this\n",
    "import numpy as np\n",
    "import statsmodels.formula.api as sm\n",
    "import pandas as pd\n",
    "from sklearn.model_selection import train_test_split"
   ]
  },
  {
   "cell_type": "code",
   "execution_count": 6,
   "id": "33ab665c-3438-4566-bd61-182ee061ed2d",
   "metadata": {},
   "outputs": [
    {
     "data": {
      "text/html": [
       "<div>\n",
       "<style scoped>\n",
       "    .dataframe tbody tr th:only-of-type {\n",
       "        vertical-align: middle;\n",
       "    }\n",
       "\n",
       "    .dataframe tbody tr th {\n",
       "        vertical-align: top;\n",
       "    }\n",
       "\n",
       "    .dataframe thead th {\n",
       "        text-align: right;\n",
       "    }\n",
       "</style>\n",
       "<table border=\"1\" class=\"dataframe\">\n",
       "  <thead>\n",
       "    <tr style=\"text-align: right;\">\n",
       "      <th></th>\n",
       "      <th>age</th>\n",
       "      <th>sex</th>\n",
       "      <th>bmi</th>\n",
       "      <th>bp</th>\n",
       "      <th>s1</th>\n",
       "      <th>s2</th>\n",
       "      <th>s3</th>\n",
       "      <th>s4</th>\n",
       "      <th>s5</th>\n",
       "      <th>s6</th>\n",
       "      <th>target</th>\n",
       "    </tr>\n",
       "  </thead>\n",
       "  <tbody>\n",
       "    <tr>\n",
       "      <th>0</th>\n",
       "      <td>0.038076</td>\n",
       "      <td>0.050680</td>\n",
       "      <td>0.061696</td>\n",
       "      <td>0.021872</td>\n",
       "      <td>-0.044223</td>\n",
       "      <td>-0.034821</td>\n",
       "      <td>-0.043401</td>\n",
       "      <td>-0.002592</td>\n",
       "      <td>0.019908</td>\n",
       "      <td>-0.017646</td>\n",
       "      <td>151.0</td>\n",
       "    </tr>\n",
       "    <tr>\n",
       "      <th>1</th>\n",
       "      <td>-0.001882</td>\n",
       "      <td>-0.044642</td>\n",
       "      <td>-0.051474</td>\n",
       "      <td>-0.026328</td>\n",
       "      <td>-0.008449</td>\n",
       "      <td>-0.019163</td>\n",
       "      <td>0.074412</td>\n",
       "      <td>-0.039493</td>\n",
       "      <td>-0.068330</td>\n",
       "      <td>-0.092204</td>\n",
       "      <td>75.0</td>\n",
       "    </tr>\n",
       "    <tr>\n",
       "      <th>2</th>\n",
       "      <td>0.085299</td>\n",
       "      <td>0.050680</td>\n",
       "      <td>0.044451</td>\n",
       "      <td>-0.005671</td>\n",
       "      <td>-0.045599</td>\n",
       "      <td>-0.034194</td>\n",
       "      <td>-0.032356</td>\n",
       "      <td>-0.002592</td>\n",
       "      <td>0.002864</td>\n",
       "      <td>-0.025930</td>\n",
       "      <td>141.0</td>\n",
       "    </tr>\n",
       "    <tr>\n",
       "      <th>3</th>\n",
       "      <td>-0.089063</td>\n",
       "      <td>-0.044642</td>\n",
       "      <td>-0.011595</td>\n",
       "      <td>-0.036656</td>\n",
       "      <td>0.012191</td>\n",
       "      <td>0.024991</td>\n",
       "      <td>-0.036038</td>\n",
       "      <td>0.034309</td>\n",
       "      <td>0.022692</td>\n",
       "      <td>-0.009362</td>\n",
       "      <td>206.0</td>\n",
       "    </tr>\n",
       "    <tr>\n",
       "      <th>4</th>\n",
       "      <td>0.005383</td>\n",
       "      <td>-0.044642</td>\n",
       "      <td>-0.036385</td>\n",
       "      <td>0.021872</td>\n",
       "      <td>0.003935</td>\n",
       "      <td>0.015596</td>\n",
       "      <td>0.008142</td>\n",
       "      <td>-0.002592</td>\n",
       "      <td>-0.031991</td>\n",
       "      <td>-0.046641</td>\n",
       "      <td>135.0</td>\n",
       "    </tr>\n",
       "  </tbody>\n",
       "</table>\n",
       "</div>"
      ],
      "text/plain": [
       "        age       sex       bmi        bp        s1        s2        s3  \\\n",
       "0  0.038076  0.050680  0.061696  0.021872 -0.044223 -0.034821 -0.043401   \n",
       "1 -0.001882 -0.044642 -0.051474 -0.026328 -0.008449 -0.019163  0.074412   \n",
       "2  0.085299  0.050680  0.044451 -0.005671 -0.045599 -0.034194 -0.032356   \n",
       "3 -0.089063 -0.044642 -0.011595 -0.036656  0.012191  0.024991 -0.036038   \n",
       "4  0.005383 -0.044642 -0.036385  0.021872  0.003935  0.015596  0.008142   \n",
       "\n",
       "         s4        s5        s6  target  \n",
       "0 -0.002592  0.019908 -0.017646   151.0  \n",
       "1 -0.039493 -0.068330 -0.092204    75.0  \n",
       "2 -0.002592  0.002864 -0.025930   141.0  \n",
       "3  0.034309  0.022692 -0.009362   206.0  \n",
       "4 -0.002592 -0.031991 -0.046641   135.0  "
      ]
     },
     "execution_count": 6,
     "metadata": {},
     "output_type": "execute_result"
    }
   ],
   "source": [
    "X = load_diabetes(return_X_y=False, as_frame=True)['frame']\n",
    "X.head()"
   ]
  },
  {
   "cell_type": "code",
   "execution_count": 7,
   "id": "e156103d-9738-4297-9558-ce2919e5d369",
   "metadata": {},
   "outputs": [],
   "source": [
    "X_train, X_test = train_test_split(X)"
   ]
  },
  {
   "cell_type": "code",
   "execution_count": 8,
   "id": "fe5fe611-11ec-47e6-8237-81744d5067a8",
   "metadata": {},
   "outputs": [],
   "source": [
    "import ipywidgets as ipyw\n",
    "formula_test = ipyw.Text(value='target~age')"
   ]
  },
  {
   "cell_type": "code",
   "execution_count": 10,
   "id": "61c0377e-c56c-4b82-a013-350c9fc8cb76",
   "metadata": {},
   "outputs": [
    {
     "data": {
      "application/vnd.jupyter.widget-view+json": {
       "model_id": "080a6207f4344ea7912f61221090e449",
       "version_major": 2,
       "version_minor": 0
      },
      "text/plain": [
       "Text(value='target~age')"
      ]
     },
     "metadata": {},
     "output_type": "display_data"
    }
   ],
   "source": [
    "formula_test"
   ]
  },
  {
   "cell_type": "code",
   "execution_count": 11,
   "id": "2bfb07ee-e102-4138-9bac-18cbb71126fc",
   "metadata": {},
   "outputs": [
    {
     "name": "stdout",
     "output_type": "stream",
     "text": [
      "                            OLS Regression Results                            \n",
      "==============================================================================\n",
      "Dep. Variable:                 target   R-squared:                       0.364\n",
      "Model:                            OLS   Adj. R-squared:                  0.360\n",
      "Method:                 Least Squares   F-statistic:                     93.77\n",
      "Date:                Thu, 03 Feb 2022   Prob (F-statistic):           6.19e-33\n",
      "Time:                        14:21:08   Log-Likelihood:                -1829.0\n",
      "No. Observations:                 331   AIC:                             3664.\n",
      "Df Residuals:                     328   BIC:                             3675.\n",
      "Df Model:                           2                                         \n",
      "Covariance Type:            nonrobust                                         \n",
      "==============================================================================\n",
      "                 coef    std err          t      P>|t|      [0.025      0.975]\n",
      "------------------------------------------------------------------------------\n",
      "Intercept    147.4789      3.354     43.970      0.000     140.881     154.077\n",
      "bmi          738.0095     74.624      9.890      0.000     591.207     884.811\n",
      "bp           404.4035     74.016      5.464      0.000     258.798     550.008\n",
      "==============================================================================\n",
      "Omnibus:                        8.576   Durbin-Watson:                   2.104\n",
      "Prob(Omnibus):                  0.014   Jarque-Bera (JB):                7.456\n",
      "Skew:                           0.295   Prob(JB):                       0.0240\n",
      "Kurtosis:                       2.561   Cond. No.                         25.7\n",
      "==============================================================================\n",
      "\n",
      "Notes:\n",
      "[1] Standard Errors assume that the covariance matrix of the errors is correctly specified.\n"
     ]
    }
   ],
   "source": [
    "formula = 'target ~ age + sex**2 + bmi:sex  + s1 + s2 + s3 + s4 + s5 + s6'\n",
    "target_col = 'target'\n",
    "result = sm.ols(formula_test.value, data=X_train).fit() \n",
    "# result = sm.OLS()\n",
    "# result.from_formula(formula, data=X_train)\n",
    "# result.fit()\n",
    "print(result.summary())"
   ]
  },
  {
   "cell_type": "code",
   "execution_count": 12,
   "id": "e88569b0-44e6-4485-bc23-8be80118a70c",
   "metadata": {},
   "outputs": [
    {
     "name": "stdout",
     "output_type": "stream",
     "text": [
      "target ~ 1+bmi+bp\n",
      "{'Intercept': 147.47887432437375, 'bmi': 738.009468867815, 'bp': 404.4034614482928}\n"
     ]
    }
   ],
   "source": [
    "saved_formula = f'{target_col} ~ ' + '+'.join(result.params.index).replace('Intercept','1') # (is this necessary?)                                                                                                  \n",
    "saved_params = result.params.to_dict()                                                                                                                                                                     \n",
    "print(saved_formula)                                                                                                                                                                                    \n",
    "print(saved_params)   \n",
    "\n",
    "import json\n",
    "model_data = {\n",
    "    'weights':saved_params,\n",
    "    'target_column':target_col,\n",
    "    'formula':saved_formula,\n",
    "}\n",
    "f = open('sm_OLS.json', 'w')\n",
    "json.dump(model_data, f)\n",
    "f.close()"
   ]
  },
  {
   "cell_type": "code",
   "execution_count": 9,
   "id": "8e2f810e-e627-4eba-a838-5ecb5dc8ce63",
   "metadata": {},
   "outputs": [],
   "source": [
    "import patsy                                                                                                                          \n",
    "def predict(data, formula) :                                                                                                          \n",
    "    formula_rhs = formula.split('~')[1].strip()                                                                                       \n",
    "    x_data = patsy.dmatrix(formula_rhs, data=data)                                                                                      \n",
    "    ordered_terms = x_data.design_info.term_names                                                                                     \n",
    "    ordered_params = list(map(saved_params.get, ordered_terms))                                                                       \n",
    "    return x_data @ ordered_params                                                                                                  \n",
    "                                                                                                                                      \n",
    "model = lambda x : predict(x, saved_formula)"
   ]
  },
  {
   "cell_type": "code",
   "execution_count": 10,
   "id": "7f768cd6-6b8d-4240-9782-f46efdd8bdcd",
   "metadata": {},
   "outputs": [
    {
     "data": {
      "text/plain": [
       "array([167.27420459, 155.77208269, 131.48982534, 159.60612332,\n",
       "       113.59763571, 160.88413686, 165.99619104, 157.05009623,\n",
       "       180.05434004, 153.2160556 , 132.76783888, 174.94228586,\n",
       "       132.76783888, 132.76783888, 165.99619104, 181.33235358,\n",
       "       162.16215041, 126.37777116, 163.44016395, 158.32810978,\n",
       "       158.32810978, 134.04585243, 172.38625877, 141.71393369,\n",
       "       150.66002851, 136.60187951, 146.82598787, 163.44016395,\n",
       "       164.7181775 , 174.94228586, 165.99619104, 125.09975761,\n",
       "       141.71393369, 164.7181775 , 137.87989306, 165.99619104,\n",
       "       142.99194724, 158.32810978, 180.05434004, 148.10400142,\n",
       "       167.27420459, 153.2160556 , 149.38201496, 153.2160556 ,\n",
       "       154.49406914, 136.60187951, 145.54797433, 130.21181179,\n",
       "       160.88413686, 148.10400142, 139.1579066 , 154.49406914,\n",
       "       157.05009623, 174.94228586, 168.55221813, 139.1579066 ,\n",
       "       128.93379825, 180.05434004, 180.05434004, 145.54797433,\n",
       "       128.93379825, 171.10824522, 162.16215041, 162.16215041,\n",
       "       162.16215041, 176.2202994 , 165.99619104, 174.94228586,\n",
       "       125.09975761, 174.94228586, 149.38201496, 157.05009623,\n",
       "       123.82174407, 168.55221813, 157.05009623, 132.76783888,\n",
       "       168.55221813, 163.44016395, 182.61036713, 119.98770343,\n",
       "       167.27420459, 160.88413686, 146.82598787, 173.66427231,\n",
       "       157.05009623, 165.99619104, 150.66002851, 135.32386597,\n",
       "       131.48982534, 140.43592015, 172.38625877, 130.21181179,\n",
       "       172.38625877, 151.93804205, 160.88413686, 141.71393369,\n",
       "       176.2202994 , 157.05009623, 165.99619104, 159.60612332,\n",
       "       151.93804205, 144.26996078, 162.16215041, 165.99619104,\n",
       "       167.27420459, 149.38201496, 144.26996078, 163.44016395,\n",
       "       154.49406914, 144.26996078, 141.71393369])"
      ]
     },
     "execution_count": 10,
     "metadata": {},
     "output_type": "execute_result"
    }
   ],
   "source": [
    "model(X_test)"
   ]
  },
  {
   "cell_type": "code",
   "execution_count": 11,
   "id": "4e675e31-436d-4fab-9640-9eafa941d27e",
   "metadata": {},
   "outputs": [],
   "source": [
    "actual_model = result.predict\n",
    "x = X.drop(['target'], axis=1)\n",
    "znew = actual_model(X_test.drop(['target'], axis=1))"
   ]
  },
  {
   "cell_type": "code",
   "execution_count": 12,
   "id": "b3e118c9-55b8-498d-be95-ff1fa8801551",
   "metadata": {},
   "outputs": [
    {
     "data": {
      "text/plain": [
       "91     167.274205\n",
       "36     155.772083\n",
       "436    131.489825\n",
       "239    159.606123\n",
       "26     113.597636\n",
       "          ...    \n",
       "92     144.269961\n",
       "50     163.440164\n",
       "423    154.494069\n",
       "336    144.269961\n",
       "97     141.713934\n",
       "Length: 111, dtype: float64"
      ]
     },
     "execution_count": 12,
     "metadata": {},
     "output_type": "execute_result"
    }
   ],
   "source": [
    "znew"
   ]
  },
  {
   "cell_type": "code",
   "execution_count": 4,
   "id": "aba1ef81-396e-4134-a1cb-88609ce40737",
   "metadata": {},
   "outputs": [],
   "source": [
    "import pandas as pd"
   ]
  },
  {
   "cell_type": "code",
   "execution_count": 6,
   "id": "ac537546-4c9c-45cf-81c3-67ccc208b098",
   "metadata": {},
   "outputs": [],
   "source": [
    "x = pd.DataFrame({'x':[1,2,3], 'y':[4,5,6]})"
   ]
  },
  {
   "cell_type": "code",
   "execution_count": 7,
   "id": "c37d8b64-7635-4937-97e1-7e7c95cc04fa",
   "metadata": {},
   "outputs": [
    {
     "data": {
      "text/html": [
       "<div>\n",
       "<style scoped>\n",
       "    .dataframe tbody tr th:only-of-type {\n",
       "        vertical-align: middle;\n",
       "    }\n",
       "\n",
       "    .dataframe tbody tr th {\n",
       "        vertical-align: top;\n",
       "    }\n",
       "\n",
       "    .dataframe thead th {\n",
       "        text-align: right;\n",
       "    }\n",
       "</style>\n",
       "<table border=\"1\" class=\"dataframe\">\n",
       "  <thead>\n",
       "    <tr style=\"text-align: right;\">\n",
       "      <th></th>\n",
       "      <th>x</th>\n",
       "      <th>y</th>\n",
       "    </tr>\n",
       "  </thead>\n",
       "  <tbody>\n",
       "    <tr>\n",
       "      <th>0</th>\n",
       "      <td>1</td>\n",
       "      <td>4</td>\n",
       "    </tr>\n",
       "    <tr>\n",
       "      <th>1</th>\n",
       "      <td>2</td>\n",
       "      <td>5</td>\n",
       "    </tr>\n",
       "    <tr>\n",
       "      <th>2</th>\n",
       "      <td>3</td>\n",
       "      <td>6</td>\n",
       "    </tr>\n",
       "  </tbody>\n",
       "</table>\n",
       "</div>"
      ],
      "text/plain": [
       "   x  y\n",
       "0  1  4\n",
       "1  2  5\n",
       "2  3  6"
      ]
     },
     "execution_count": 7,
     "metadata": {},
     "output_type": "execute_result"
    }
   ],
   "source": [
    "x"
   ]
  },
  {
   "cell_type": "code",
   "execution_count": 8,
   "id": "c6f88481-2824-4db6-b50a-c048cf40c054",
   "metadata": {},
   "outputs": [],
   "source": [
    "y = x.drop(['x'], axis=1)"
   ]
  },
  {
   "cell_type": "code",
   "execution_count": 9,
   "id": "34c942da-5c95-4d1b-b393-549617111fe8",
   "metadata": {},
   "outputs": [
    {
     "data": {
      "text/html": [
       "<div>\n",
       "<style scoped>\n",
       "    .dataframe tbody tr th:only-of-type {\n",
       "        vertical-align: middle;\n",
       "    }\n",
       "\n",
       "    .dataframe tbody tr th {\n",
       "        vertical-align: top;\n",
       "    }\n",
       "\n",
       "    .dataframe thead th {\n",
       "        text-align: right;\n",
       "    }\n",
       "</style>\n",
       "<table border=\"1\" class=\"dataframe\">\n",
       "  <thead>\n",
       "    <tr style=\"text-align: right;\">\n",
       "      <th></th>\n",
       "      <th>y</th>\n",
       "    </tr>\n",
       "  </thead>\n",
       "  <tbody>\n",
       "    <tr>\n",
       "      <th>0</th>\n",
       "      <td>4</td>\n",
       "    </tr>\n",
       "    <tr>\n",
       "      <th>1</th>\n",
       "      <td>5</td>\n",
       "    </tr>\n",
       "    <tr>\n",
       "      <th>2</th>\n",
       "      <td>6</td>\n",
       "    </tr>\n",
       "  </tbody>\n",
       "</table>\n",
       "</div>"
      ],
      "text/plain": [
       "   y\n",
       "0  4\n",
       "1  5\n",
       "2  6"
      ]
     },
     "execution_count": 9,
     "metadata": {},
     "output_type": "execute_result"
    }
   ],
   "source": [
    "y"
   ]
  },
  {
   "cell_type": "code",
   "execution_count": 10,
   "id": "a30bc2ae-a351-44fc-809d-d4a93b4475bb",
   "metadata": {},
   "outputs": [
    {
     "data": {
      "text/html": [
       "<div>\n",
       "<style scoped>\n",
       "    .dataframe tbody tr th:only-of-type {\n",
       "        vertical-align: middle;\n",
       "    }\n",
       "\n",
       "    .dataframe tbody tr th {\n",
       "        vertical-align: top;\n",
       "    }\n",
       "\n",
       "    .dataframe thead th {\n",
       "        text-align: right;\n",
       "    }\n",
       "</style>\n",
       "<table border=\"1\" class=\"dataframe\">\n",
       "  <thead>\n",
       "    <tr style=\"text-align: right;\">\n",
       "      <th></th>\n",
       "      <th>x</th>\n",
       "      <th>y</th>\n",
       "    </tr>\n",
       "  </thead>\n",
       "  <tbody>\n",
       "    <tr>\n",
       "      <th>0</th>\n",
       "      <td>1</td>\n",
       "      <td>4</td>\n",
       "    </tr>\n",
       "    <tr>\n",
       "      <th>1</th>\n",
       "      <td>2</td>\n",
       "      <td>5</td>\n",
       "    </tr>\n",
       "    <tr>\n",
       "      <th>2</th>\n",
       "      <td>3</td>\n",
       "      <td>6</td>\n",
       "    </tr>\n",
       "  </tbody>\n",
       "</table>\n",
       "</div>"
      ],
      "text/plain": [
       "   x  y\n",
       "0  1  4\n",
       "1  2  5\n",
       "2  3  6"
      ]
     },
     "execution_count": 10,
     "metadata": {},
     "output_type": "execute_result"
    }
   ],
   "source": [
    "x"
   ]
  },
  {
   "cell_type": "code",
   "execution_count": 7,
   "id": "e126bb75-0c3f-4abb-9743-a3afee03df41",
   "metadata": {},
   "outputs": [],
   "source": [
    "import pandas\n",
    "from formulaic import Formula\n",
    "\n",
    "df = pandas.DataFrame({\n",
    "    'y': [0,1,2],\n",
    "    'x': ['A', 'B', 'C'],\n",
    "    'z': [0.3, 0.1, 0.2],\n",
    "})\n",
    "\n",
    "y, X = Formula('y ~ x + z').get_model_matrix(df)"
   ]
  },
  {
   "cell_type": "code",
   "execution_count": 8,
   "id": "fcc2de29-f7ff-4e33-bcea-b1ebe2445ded",
   "metadata": {},
   "outputs": [
    {
     "data": {
      "text/html": [
       "<div>\n",
       "<style scoped>\n",
       "    .dataframe tbody tr th:only-of-type {\n",
       "        vertical-align: middle;\n",
       "    }\n",
       "\n",
       "    .dataframe tbody tr th {\n",
       "        vertical-align: top;\n",
       "    }\n",
       "\n",
       "    .dataframe thead th {\n",
       "        text-align: right;\n",
       "    }\n",
       "</style>\n",
       "<table border=\"1\" class=\"dataframe\">\n",
       "  <thead>\n",
       "    <tr style=\"text-align: right;\">\n",
       "      <th></th>\n",
       "      <th>y</th>\n",
       "    </tr>\n",
       "  </thead>\n",
       "  <tbody>\n",
       "    <tr>\n",
       "      <th>0</th>\n",
       "      <td>0</td>\n",
       "    </tr>\n",
       "    <tr>\n",
       "      <th>1</th>\n",
       "      <td>1</td>\n",
       "    </tr>\n",
       "    <tr>\n",
       "      <th>2</th>\n",
       "      <td>2</td>\n",
       "    </tr>\n",
       "  </tbody>\n",
       "</table>\n",
       "</div>"
      ],
      "text/plain": [
       "   y\n",
       "0  0\n",
       "1  1\n",
       "2  2"
      ]
     },
     "execution_count": 8,
     "metadata": {},
     "output_type": "execute_result"
    }
   ],
   "source": [
    "y"
   ]
  },
  {
   "cell_type": "code",
   "execution_count": 9,
   "id": "051e31f4-1bcf-4218-a31f-5202703c5598",
   "metadata": {},
   "outputs": [
    {
     "data": {
      "text/html": [
       "<div>\n",
       "<style scoped>\n",
       "    .dataframe tbody tr th:only-of-type {\n",
       "        vertical-align: middle;\n",
       "    }\n",
       "\n",
       "    .dataframe tbody tr th {\n",
       "        vertical-align: top;\n",
       "    }\n",
       "\n",
       "    .dataframe thead th {\n",
       "        text-align: right;\n",
       "    }\n",
       "</style>\n",
       "<table border=\"1\" class=\"dataframe\">\n",
       "  <thead>\n",
       "    <tr style=\"text-align: right;\">\n",
       "      <th></th>\n",
       "      <th>Intercept</th>\n",
       "      <th>x[T.B]</th>\n",
       "      <th>x[T.C]</th>\n",
       "      <th>z</th>\n",
       "    </tr>\n",
       "  </thead>\n",
       "  <tbody>\n",
       "    <tr>\n",
       "      <th>0</th>\n",
       "      <td>1.0</td>\n",
       "      <td>0</td>\n",
       "      <td>0</td>\n",
       "      <td>0.3</td>\n",
       "    </tr>\n",
       "    <tr>\n",
       "      <th>1</th>\n",
       "      <td>1.0</td>\n",
       "      <td>1</td>\n",
       "      <td>0</td>\n",
       "      <td>0.1</td>\n",
       "    </tr>\n",
       "    <tr>\n",
       "      <th>2</th>\n",
       "      <td>1.0</td>\n",
       "      <td>0</td>\n",
       "      <td>1</td>\n",
       "      <td>0.2</td>\n",
       "    </tr>\n",
       "  </tbody>\n",
       "</table>\n",
       "</div>"
      ],
      "text/plain": [
       "   Intercept  x[T.B]  x[T.C]    z\n",
       "0        1.0       0       0  0.3\n",
       "1        1.0       1       0  0.1\n",
       "2        1.0       0       1  0.2"
      ]
     },
     "execution_count": 9,
     "metadata": {},
     "output_type": "execute_result"
    }
   ],
   "source": [
    "X"
   ]
  },
  {
   "cell_type": "code",
   "execution_count": 10,
   "id": "f9ac704a-b550-422d-aacb-81ce0d3f225c",
   "metadata": {},
   "outputs": [],
   "source": [
    "from sklearn.datasets import load_diabetes\n",
    "import numpy as np"
   ]
  },
  {
   "cell_type": "code",
   "execution_count": 11,
   "id": "4ae9f288-947e-4320-acb1-4d1b8a48ce16",
   "metadata": {},
   "outputs": [],
   "source": [
    "df = load_diabetes(return_X_y=False, as_frame=True)['frame']"
   ]
  },
  {
   "cell_type": "code",
   "execution_count": 12,
   "id": "48f883be-71fe-4991-b144-3e5cc8014a1e",
   "metadata": {},
   "outputs": [],
   "source": [
    "\n",
    "y, X = Formula('target ~ age:sex + bp + bmi + bp').get_model_matrix(df)"
   ]
  },
  {
   "cell_type": "code",
   "execution_count": 13,
   "id": "c16100bd-22ee-49ab-bf6b-c617c6cbc01e",
   "metadata": {},
   "outputs": [
    {
     "data": {
      "text/html": [
       "<div>\n",
       "<style scoped>\n",
       "    .dataframe tbody tr th:only-of-type {\n",
       "        vertical-align: middle;\n",
       "    }\n",
       "\n",
       "    .dataframe tbody tr th {\n",
       "        vertical-align: top;\n",
       "    }\n",
       "\n",
       "    .dataframe thead th {\n",
       "        text-align: right;\n",
       "    }\n",
       "</style>\n",
       "<table border=\"1\" class=\"dataframe\">\n",
       "  <thead>\n",
       "    <tr style=\"text-align: right;\">\n",
       "      <th></th>\n",
       "      <th>target</th>\n",
       "    </tr>\n",
       "  </thead>\n",
       "  <tbody>\n",
       "    <tr>\n",
       "      <th>0</th>\n",
       "      <td>151.0</td>\n",
       "    </tr>\n",
       "    <tr>\n",
       "      <th>1</th>\n",
       "      <td>75.0</td>\n",
       "    </tr>\n",
       "    <tr>\n",
       "      <th>2</th>\n",
       "      <td>141.0</td>\n",
       "    </tr>\n",
       "    <tr>\n",
       "      <th>3</th>\n",
       "      <td>206.0</td>\n",
       "    </tr>\n",
       "    <tr>\n",
       "      <th>4</th>\n",
       "      <td>135.0</td>\n",
       "    </tr>\n",
       "    <tr>\n",
       "      <th>...</th>\n",
       "      <td>...</td>\n",
       "    </tr>\n",
       "    <tr>\n",
       "      <th>437</th>\n",
       "      <td>178.0</td>\n",
       "    </tr>\n",
       "    <tr>\n",
       "      <th>438</th>\n",
       "      <td>104.0</td>\n",
       "    </tr>\n",
       "    <tr>\n",
       "      <th>439</th>\n",
       "      <td>132.0</td>\n",
       "    </tr>\n",
       "    <tr>\n",
       "      <th>440</th>\n",
       "      <td>220.0</td>\n",
       "    </tr>\n",
       "    <tr>\n",
       "      <th>441</th>\n",
       "      <td>57.0</td>\n",
       "    </tr>\n",
       "  </tbody>\n",
       "</table>\n",
       "<p>442 rows × 1 columns</p>\n",
       "</div>"
      ],
      "text/plain": [
       "     target\n",
       "0     151.0\n",
       "1      75.0\n",
       "2     141.0\n",
       "3     206.0\n",
       "4     135.0\n",
       "..      ...\n",
       "437   178.0\n",
       "438   104.0\n",
       "439   132.0\n",
       "440   220.0\n",
       "441    57.0\n",
       "\n",
       "[442 rows x 1 columns]"
      ]
     },
     "execution_count": 13,
     "metadata": {},
     "output_type": "execute_result"
    }
   ],
   "source": [
    "y"
   ]
  },
  {
   "cell_type": "code",
   "execution_count": 14,
   "id": "d4e11e6f-b985-4e3f-be5d-a2dc429f839e",
   "metadata": {},
   "outputs": [
    {
     "data": {
      "text/html": [
       "<div>\n",
       "<style scoped>\n",
       "    .dataframe tbody tr th:only-of-type {\n",
       "        vertical-align: middle;\n",
       "    }\n",
       "\n",
       "    .dataframe tbody tr th {\n",
       "        vertical-align: top;\n",
       "    }\n",
       "\n",
       "    .dataframe thead th {\n",
       "        text-align: right;\n",
       "    }\n",
       "</style>\n",
       "<table border=\"1\" class=\"dataframe\">\n",
       "  <thead>\n",
       "    <tr style=\"text-align: right;\">\n",
       "      <th></th>\n",
       "      <th>Intercept</th>\n",
       "      <th>bmi</th>\n",
       "      <th>bp</th>\n",
       "      <th>age:sex</th>\n",
       "    </tr>\n",
       "  </thead>\n",
       "  <tbody>\n",
       "    <tr>\n",
       "      <th>0</th>\n",
       "      <td>1.0</td>\n",
       "      <td>0.061696</td>\n",
       "      <td>0.021872</td>\n",
       "      <td>0.001930</td>\n",
       "    </tr>\n",
       "    <tr>\n",
       "      <th>1</th>\n",
       "      <td>1.0</td>\n",
       "      <td>-0.051474</td>\n",
       "      <td>-0.026328</td>\n",
       "      <td>0.000084</td>\n",
       "    </tr>\n",
       "    <tr>\n",
       "      <th>2</th>\n",
       "      <td>1.0</td>\n",
       "      <td>0.044451</td>\n",
       "      <td>-0.005671</td>\n",
       "      <td>0.004323</td>\n",
       "    </tr>\n",
       "    <tr>\n",
       "      <th>3</th>\n",
       "      <td>1.0</td>\n",
       "      <td>-0.011595</td>\n",
       "      <td>-0.036656</td>\n",
       "      <td>0.003976</td>\n",
       "    </tr>\n",
       "    <tr>\n",
       "      <th>4</th>\n",
       "      <td>1.0</td>\n",
       "      <td>-0.036385</td>\n",
       "      <td>0.021872</td>\n",
       "      <td>-0.000240</td>\n",
       "    </tr>\n",
       "    <tr>\n",
       "      <th>...</th>\n",
       "      <td>...</td>\n",
       "      <td>...</td>\n",
       "      <td>...</td>\n",
       "      <td>...</td>\n",
       "    </tr>\n",
       "    <tr>\n",
       "      <th>437</th>\n",
       "      <td>1.0</td>\n",
       "      <td>0.019662</td>\n",
       "      <td>0.059744</td>\n",
       "      <td>0.002114</td>\n",
       "    </tr>\n",
       "    <tr>\n",
       "      <th>438</th>\n",
       "      <td>1.0</td>\n",
       "      <td>-0.015906</td>\n",
       "      <td>-0.067642</td>\n",
       "      <td>-0.000279</td>\n",
       "    </tr>\n",
       "    <tr>\n",
       "      <th>439</th>\n",
       "      <td>1.0</td>\n",
       "      <td>-0.015906</td>\n",
       "      <td>0.017282</td>\n",
       "      <td>0.002114</td>\n",
       "    </tr>\n",
       "    <tr>\n",
       "      <th>440</th>\n",
       "      <td>1.0</td>\n",
       "      <td>0.039062</td>\n",
       "      <td>0.001215</td>\n",
       "      <td>0.002030</td>\n",
       "    </tr>\n",
       "    <tr>\n",
       "      <th>441</th>\n",
       "      <td>1.0</td>\n",
       "      <td>-0.073030</td>\n",
       "      <td>-0.081414</td>\n",
       "      <td>0.002030</td>\n",
       "    </tr>\n",
       "  </tbody>\n",
       "</table>\n",
       "<p>442 rows × 4 columns</p>\n",
       "</div>"
      ],
      "text/plain": [
       "     Intercept       bmi        bp   age:sex\n",
       "0          1.0  0.061696  0.021872  0.001930\n",
       "1          1.0 -0.051474 -0.026328  0.000084\n",
       "2          1.0  0.044451 -0.005671  0.004323\n",
       "3          1.0 -0.011595 -0.036656  0.003976\n",
       "4          1.0 -0.036385  0.021872 -0.000240\n",
       "..         ...       ...       ...       ...\n",
       "437        1.0  0.019662  0.059744  0.002114\n",
       "438        1.0 -0.015906 -0.067642 -0.000279\n",
       "439        1.0 -0.015906  0.017282  0.002114\n",
       "440        1.0  0.039062  0.001215  0.002030\n",
       "441        1.0 -0.073030 -0.081414  0.002030\n",
       "\n",
       "[442 rows x 4 columns]"
      ]
     },
     "execution_count": 14,
     "metadata": {},
     "output_type": "execute_result"
    }
   ],
   "source": [
    "X"
   ]
  },
  {
   "cell_type": "code",
   "execution_count": 15,
   "id": "5e78b5fc-7e6e-4dd3-bac0-aa3ac7855f31",
   "metadata": {},
   "outputs": [
    {
     "data": {
      "text/plain": [
       "bqplot.marks.ScatterGL"
      ]
     },
     "execution_count": 15,
     "metadata": {},
     "output_type": "execute_result"
    }
   ],
   "source": [
    "import bqplot as bq\n",
    "bq.marks.ScatterGL"
   ]
  },
  {
   "cell_type": "code",
   "execution_count": 16,
   "id": "aa3c8ff1-2dcc-4e23-ab9e-094b362a6b62",
   "metadata": {},
   "outputs": [],
   "source": [
    "fig = bq.figure.Figure()"
   ]
  },
  {
   "cell_type": "code",
   "execution_count": 18,
   "id": "76bc952c-3d01-440f-b300-5af1d1c2e807",
   "metadata": {},
   "outputs": [],
   "source": [
    "marks = [bq.marks.ScatterGL(x=X.bmi, y=X.bp)]"
   ]
  },
  {
   "cell_type": "code",
   "execution_count": 19,
   "id": "9add5b78-2507-46a0-b1a9-4bc0b9c79e59",
   "metadata": {},
   "outputs": [
    {
     "data": {
      "application/vnd.jupyter.widget-view+json": {
       "model_id": "1678a474b2f34a599811abd062067be5",
       "version_major": 2,
       "version_minor": 0
      },
      "text/plain": [
       "Figure(fig_margin={'top': 60, 'bottom': 60, 'left': 60, 'right': 60}, marks=[ScatterGL(colors=['steelblue'], i…"
      ]
     },
     "metadata": {},
     "output_type": "display_data"
    }
   ],
   "source": [
    "fig.marks=marks\n",
    "fig"
   ]
  },
  {
   "cell_type": "code",
   "execution_count": 412,
   "id": "719c9a40-6fdf-42a2-be4a-6bdfe22071a7",
   "metadata": {},
   "outputs": [],
   "source": [
    "import json\n",
    "import time\n",
    "import numpy as np\n",
    "import bqplot as bq\n",
    "import pandas as pd\n",
    "import ipywidgets as ipyw\n",
    "from regression_callable import run_neural_net\n",
    "import traitlets as trt\n",
    "from bqplot.interacts import (\n",
    "    BrushSelector,\n",
    "    BrushIntervalSelector,\n",
    ")\n",
    "\n",
    "# open our json file\n",
    "f = open('nn_regression.json', 'r')\n",
    "model_data = json.load(f)\n",
    "f.close()\n",
    "bounds = model_data['bounds']"
   ]
  },
  {
   "cell_type": "code",
   "execution_count": 447,
   "id": "d30edb25-3f7b-4b85-ba53-75830ab15e2c",
   "metadata": {},
   "outputs": [],
   "source": [
    "# generate one million uniformly distributed points for each bound, put into dataframe\n",
    "points = {}\n",
    "for dimension, bound in bounds.items():\n",
    "    points[dimension] = np.random.uniform(bound[0], bound[1], 10000)\n",
    "\n",
    "df = pd.DataFrame(points)"
   ]
  },
  {
   "cell_type": "code",
   "execution_count": 448,
   "id": "23d21b00-c3c9-4f60-bd90-3fdbb9ccab78",
   "metadata": {},
   "outputs": [],
   "source": [
    "# now lets get the target column which will be done by evaluating the function...\n",
    "from functools import partial\n",
    "neural_net = partial(run_neural_net, model=model_data)\n",
    "x = neural_net(**points)"
   ]
  },
  {
   "cell_type": "code",
   "execution_count": 449,
   "id": "65dd2263-953c-466d-8cf8-9a0257d59a17",
   "metadata": {},
   "outputs": [],
   "source": [
    "df['target'] = x"
   ]
  },
  {
   "cell_type": "code",
   "execution_count": 458,
   "id": "069d2f1c-526b-45a8-8564-e046938c941e",
   "metadata": {},
   "outputs": [],
   "source": [
    "class Plot(ipyw.VBox):\n",
    "    data: pd.DataFrame = trt.Instance(pd.DataFrame, allow_none=True, args=())\n",
    "    plot: bq.figure.Figure = trt.Instance(bq.figure.Figure, allow_none=True, args=())\n",
    "    x_selector: ipyw.Dropdown = trt.Instance(ipyw.Dropdown, allow_none=False)\n",
    "    y_selector: ipyw.Dropdown = trt.Instance(ipyw.Dropdown, allow_none=False)\n",
    "    points: bq.marks.ScatterGL = trt.Instance(bq.marks.ScatterGL, allow_none=True, args=())\n",
    "    scales: dict = trt.Dict(default_value={'x':bq.LinearScale(), 'y':bq.LinearScale()})\n",
    "    axes: dict = trt.Dict()\n",
    "    x_var: str = trt.Unicode(default_value=None, allow_none=True)\n",
    "    y_var: str = trt.Unicode(default_value=None, allow_none=True)\n",
    "    brush: BrushSelector = trt.Instance(BrushSelector)\n",
    "    x_bounds = trt.Any() # need to change\n",
    "    y_bounds = trt.Any() # need to change\n",
    "    selected_indices: list = trt.List(default_value=[])\n",
    "    filter_indices: list = trt.List(default_value=[])\n",
    "    brushing: bool = trt.Bool()\n",
    "\n",
    "    \n",
    "    @trt.default(\"brush\")\n",
    "    def _make_default_brush(self):\n",
    "        brush = BrushSelector(x_scale=self.scales['x'], y_scale=self.scales['y'])\n",
    "        brush.observe(self.update_brushing, \"brushing\")\n",
    "        return brush\n",
    "    \n",
    "    def update_brushing(self, *_):\n",
    "        if self.brush.brushing is False:\n",
    "            if self.points.selected is not None:\n",
    "                self.selected_indices = list(self.points.selected)\n",
    "  \n",
    "    @trt.default(\"plot\")\n",
    "    def _make_default_figure(self):\n",
    "        fig = bq.figure.Figure(\n",
    "            title='Test Plot',\n",
    "            marks=[self.points],\n",
    "            axes=list(self.axes.values()),\n",
    "            interaction=self.brush,\n",
    "        )\n",
    "        return fig\n",
    "    \n",
    "    @trt.default(\"axes\")\n",
    "    def _make_axes(self):\n",
    "        return {\n",
    "            'x': bq.Axis(scale=self.scales['x']),\n",
    "            'y': bq.Axis(scale=self.scales['y'], orientation='vertical'),\n",
    "        }\n",
    "    \n",
    "    @trt.default(\"x_selector\")\n",
    "    def _make_default_x_selector(self):\n",
    "        dropdown = ipyw.Dropdown(options=self.data.columns)\n",
    "        trt.link((dropdown, 'value'), (self, 'x_var'))\n",
    "        return dropdown\n",
    "\n",
    "    @trt.default(\"y_selector\")\n",
    "    def _make_default_y_selector(self):\n",
    "        dropdown = ipyw.Dropdown(options=self.data.columns)\n",
    "        trt.link((dropdown, 'value'), (self, 'y_var'))\n",
    "        return dropdown\n",
    "    \n",
    "    @trt.observe(\"data\")\n",
    "    def _update_dataframe(self, *_):\n",
    "        self.x_selector = self._make_default_x_selector()\n",
    "        self.y_selector = self._make_default_y_selector()\n",
    "\n",
    "    @trt.validate(\"children\")\n",
    "    def _set_children(self, proposal):\n",
    "        children = proposal.value\n",
    "        if children:\n",
    "            return children\n",
    "        return [self.x_selector, self.y_selector, self.plot]\n",
    "    \n",
    "    @trt.observe('x_var', 'y_var')\n",
    "    def update_plot(self, *_):\n",
    "        df = self.data\n",
    "        xdata = df[self.x_var]\n",
    "        ydata = df[self.y_var]\n",
    "        \n",
    "        self.scales['x'] = bq.LinearScale()\n",
    "        self.scales['y'] = bq.LinearScale()\n",
    "        self.axes = self._make_axes()\n",
    "\n",
    "        if self.filter_indices != []:\n",
    "            xdata = xdata[self.filter_indices]\n",
    "            ydata = ydata[self.filter_indices]\n",
    "            self.points.x = xdata\n",
    "            self.points.y = ydata\n",
    "            return\n",
    "        \n",
    "        self.points.x = xdata\n",
    "        self.points.y = ydata\n",
    "        self.points.scales = self.scales\n",
    "        self.points.opacity = [.3]*len(xdata)\n",
    "        self.points.size = [.3]*len(xdata)\n",
    "        self.points.selected_style={'opacity':'1'}\n",
    "        self.points.unselected_style={'opacity':'.2'}\n",
    "        \n",
    "        self.plot.axes = list(self.axes.values())\n",
    "        self.plot.axes[0].label = self.x_var\n",
    "        self.plot.axes[1].label = self.y_var\n",
    "    \n",
    "        self.brush.marks=[self.points]\n",
    "\n",
    "        \n",
    "        \n",
    "class ScatterPlotMatrix(ipyw.GridBox):\n",
    "    num_rows: int = trt.Integer(allow_none=True).tag(sync=True)\n",
    "    num_columns: int = trt.Integer(allow_none=True).tag(sync=True)\n",
    "    \n",
    "    def __init__(self, data, num_rows, num_columns, *args, **kwargs):\n",
    "        super().__init__(*args, **kwargs)\n",
    "        self.num_rows = num_rows\n",
    "        self.num_columns = num_columns\n",
    "        self.plots = [Plot(data=df, layout=dict(width='600px')) for i in range(num_rows*num_columns)]\n",
    "        for plot in self.plots:\n",
    "            plot.observe(self.update_plots, \"selected_indices\")\n",
    "        \n",
    "        plots = self.plots\n",
    "        \n",
    "        children = []\n",
    "        for i in range(num_rows):\n",
    "            children.append(ipyw.HBox(children=[plots[i] for i in range(num_columns)]))\n",
    "        \n",
    "        self.children=children\n",
    "        self.layout=dict(width='100%')\n",
    "        \n",
    "        \n",
    "    def update_plots(self, change):\n",
    "        owner = change['owner']\n",
    "        for plot in self.plots:\n",
    "            if plot == owner:\n",
    "                continue\n",
    "            else:\n",
    "                plot.filter_indices = owner.selected_indices\n",
    "                plot.update_plot()"
   ]
  },
  {
   "cell_type": "code",
   "execution_count": 459,
   "id": "fccc97f9-d7cd-4c65-9109-2c40130156c6",
   "metadata": {},
   "outputs": [
    {
     "data": {
      "application/vnd.jupyter.widget-view+json": {
       "model_id": "2a10cdc027d448378a82d8b718061c01",
       "version_major": 2,
       "version_minor": 0
      },
      "text/plain": [
       "Plot(children=(Dropdown(options=('s6', 's1', 's5', 's3', 'bp', 'sex', 'age', 's4', 'bmi', 's2', 'target'), val…"
      ]
     },
     "metadata": {},
     "output_type": "display_data"
    }
   ],
   "source": [
    "x = Plot(data=df)\n",
    "x"
   ]
  },
  {
   "cell_type": "code",
   "execution_count": 456,
   "id": "568dad6b-eb33-4eb9-b084-8320120aa627",
   "metadata": {},
   "outputs": [],
   "source": [
    "y = ScatterPlotMatrix(data=df, num_rows=6, num_columns=6)"
   ]
  },
  {
   "cell_type": "code",
   "execution_count": 457,
   "id": "18c96687-3f2a-4326-ad5d-94777178987a",
   "metadata": {},
   "outputs": [
    {
     "data": {
      "application/vnd.jupyter.widget-view+json": {
       "model_id": "120e5239971f4a74862fccef235359ad",
       "version_major": 2,
       "version_minor": 0
      },
      "text/plain": [
       "ScatterPlotMatrix(children=(HBox(children=(Plot(children=(Dropdown(options=('s6', 's1', 's5', 's3', 'bp', 'sex…"
      ]
     },
     "metadata": {},
     "output_type": "display_data"
    }
   ],
   "source": [
    "y"
   ]
  },
  {
   "cell_type": "code",
   "execution_count": null,
   "id": "435b1e3a-cdc0-43a1-9928-a0e4fa663a3e",
   "metadata": {},
   "outputs": [],
   "source": []
  }
 ],
 "metadata": {
  "kernelspec": {
   "display_name": "Python 3 (ipykernel)",
   "language": "python",
   "name": "python3"
  },
  "language_info": {
   "codemirror_mode": {
    "name": "ipython",
    "version": 3
   },
   "file_extension": ".py",
   "mimetype": "text/x-python",
   "name": "python",
   "nbconvert_exporter": "python",
   "pygments_lexer": "ipython3",
   "version": "3.8.12"
  }
 },
 "nbformat": 4,
 "nbformat_minor": 5
}
